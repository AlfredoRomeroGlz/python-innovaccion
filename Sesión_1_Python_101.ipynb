{
  "nbformat": 4,
  "nbformat_minor": 0,
  "metadata": {
    "colab": {
      "name": "Sesión 1 - Python 101",
      "provenance": [],
      "collapsed_sections": [],
      "toc_visible": true,
      "authorship_tag": "ABX9TyMl8CjKhnC9fs73pcVgQx0w",
      "include_colab_link": true
    },
    "kernelspec": {
      "name": "python3",
      "display_name": "Python 3"
    },
    "language_info": {
      "name": "python"
    }
  },
  "cells": [
    {
      "cell_type": "markdown",
      "metadata": {
        "id": "view-in-github",
        "colab_type": "text"
      },
      "source": [
        "<a href=\"https://colab.research.google.com/github/AlfredoRomeroGlz/python-innovaccion/blob/main/Sesi%C3%B3n_1_Python_101.ipynb\" target=\"_parent\"><img src=\"https://colab.research.google.com/assets/colab-badge.svg\" alt=\"Open In Colab\"/></a>"
      ]
    },
    {
      "cell_type": "markdown",
      "metadata": {
        "id": "QraNr3-8M4t4"
      },
      "source": [
        "# Curso de Introducción a Python\n",
        "\n",
        "Curso de introducción a la programación con Python para la comunidad de **Innovacción Virtual**."
      ]
    },
    {
      "cell_type": "markdown",
      "metadata": {
        "id": "K_ASHVKnNtzw"
      },
      "source": [
        "## Contenidos\n",
        "\n",
        "1. ¿Qué es programar?\n",
        "2. ¿Que es y por qué Python?\n",
        "3. I/O - ¡Hola mundo!\n",
        "4. Variables, tipos de datos y conversión\n",
        "5. Operaciones básicas\n",
        "6. Condicionales (pt. I)\n"
      ]
    },
    {
      "cell_type": "markdown",
      "metadata": {
        "id": "ScH4FmUrOsmR"
      },
      "source": [
        "## ¿Qué es programar?\n",
        "\n",
        "**Programar** es darle instrucciones a la máquina para que realice una acción. Esto lo hacemos a través de un lenguaje que una computadora sea capaz de entender.\n",
        "\n",
        "Los lenguajes en los que podemos darle instrucciones a la máquina se llaman **lenguajes de programación**, que cuentan con una sintaxis completa para poder especificar dichas instrucciones.\n",
        "\n",
        "Las intrucciones completas podemos plantearlas en una secuencia de pasos, a lo que llamamos algoritmo.\n",
        "\n",
        "Pensemos en algunos ejemplos..."
      ]
    },
    {
      "cell_type": "markdown",
      "metadata": {
        "id": "M8_mOCCyb6M5"
      },
      "source": [
        "## ¿Qué es y por qué Python?\n",
        "\n",
        "<center>\n",
        "    <img src=\"https://raw.githubusercontent.com/RodolfoFerro/python-innovaccion/main/assets/python_logo.png\" width=\"50%\">\n",
        "</center>\n",
        "\n",
        "Python es un lenguaje de programación interpretado,de tipado dinámico multiusos que es muy simple y elegante, pero poderoso.\n",
        "\n",
        "Es por ello que se utiliza en grandes compañias como Microsoft, Google y Dropbox, y en instituciones académicas donde lo utilizan para enseñar cursos que van desde introducción a la programación hasta inteligencia artificial. **Algunas plataformas como Eventbrite, Pinterest e Instagram utilizan Python.**"
      ]
    },
    {
      "cell_type": "markdown",
      "metadata": {
        "id": "LuM1e-0edMMw"
      },
      "source": [
        "## I/O - ¡Hola mundo!\n",
        "\n",
        "```input()``` y ```print()``` son las funciones de entrada y salida (respectivamente) de información en Python.\n",
        "\n",
        "```input()``` tiene como argumento una cadena de texto que da las intrucciones que se desea desplegar y lo que retorna (la respuesta) siempre es una cadena de texto; mientas que ```print()``` tiene como argumento cadenas de texto o variables que se desean desplegar.\n",
        "\n",
        "#### Ejemplo:\n",
        "\n",
        "```python\n",
        "nombre = input(\"Introduce tu nombre: \")\n",
        "print(f\"Mucho gusto, {nombre}\")\n",
        "```\n",
        "\n"
      ]
    },
    {
      "cell_type": "code",
      "metadata": {
        "colab": {
          "base_uri": "https://localhost:8080/"
        },
        "id": "yN2rTG-RfO6z",
        "outputId": "3bccab8d-dd20-44a2-f8b5-4ab71c69a960"
      },
      "source": [
        "print(\"¡Hola viajeras y viajeros!\")\n",
        "print(\"Arrancamos con el curso.\")\n",
        "\n",
        "print(\"Otra línea. 👀\")"
      ],
      "execution_count": 4,
      "outputs": [
        {
          "output_type": "stream",
          "text": [
            "¡Hola viajeras y viajeros!\n",
            "Arrancamos con el curso.\n",
            "Otra línea. 👀\n"
          ],
          "name": "stdout"
        }
      ]
    },
    {
      "cell_type": "code",
      "metadata": {
        "colab": {
          "base_uri": "https://localhost:8080/",
          "height": 53
        },
        "id": "4PkrfDX_hAAk",
        "outputId": "d3ea04b7-7664-4169-998d-6ed99fcfbf4d"
      },
      "source": [
        "input(\"Dime tu edad: \")"
      ],
      "execution_count": 7,
      "outputs": [
        {
          "output_type": "stream",
          "text": [
            "Dime tu edad: 23\n"
          ],
          "name": "stdout"
        },
        {
          "output_type": "execute_result",
          "data": {
            "application/vnd.google.colaboratory.intrinsic+json": {
              "type": "string"
            },
            "text/plain": [
              "'23'"
            ]
          },
          "metadata": {
            "tags": []
          },
          "execution_count": 7
        }
      ]
    },
    {
      "cell_type": "code",
      "metadata": {
        "id": "wsN7xyFihHBB"
      },
      "source": [
        ""
      ],
      "execution_count": null,
      "outputs": []
    }
  ]
}