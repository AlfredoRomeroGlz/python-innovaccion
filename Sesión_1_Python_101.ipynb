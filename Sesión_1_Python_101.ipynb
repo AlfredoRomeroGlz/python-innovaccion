{
  "nbformat": 4,
  "nbformat_minor": 0,
  "metadata": {
    "colab": {
      "name": "Sesión 1 - Python 101",
      "provenance": [],
      "collapsed_sections": [],
      "toc_visible": true,
      "authorship_tag": "ABX9TyOQWa1ihUQ54SO+KiZBKY4E",
      "include_colab_link": true
    },
    "kernelspec": {
      "name": "python3",
      "display_name": "Python 3"
    },
    "language_info": {
      "name": "python"
    }
  },
  "cells": [
    {
      "cell_type": "markdown",
      "metadata": {
        "id": "view-in-github",
        "colab_type": "text"
      },
      "source": [
        "<a href=\"https://colab.research.google.com/github/AlfredoRomeroGlz/python-innovaccion/blob/main/Sesi%C3%B3n_1_Python_101.ipynb\" target=\"_parent\"><img src=\"https://colab.research.google.com/assets/colab-badge.svg\" alt=\"Open In Colab\"/></a>"
      ]
    },
    {
      "cell_type": "markdown",
      "metadata": {
        "id": "QraNr3-8M4t4"
      },
      "source": [
        "# Curso de Introducción a Python\n",
        "\n",
        "Curso de introducción a la programación con Python para la comunidad de **Innovacción Virtual**."
      ]
    },
    {
      "cell_type": "markdown",
      "metadata": {
        "id": "K_ASHVKnNtzw"
      },
      "source": [
        "## Contenidos\n",
        "\n",
        "1. ¿Qué es programar?\n",
        "2. ¿Que es y por qué Python?\n",
        "3. I/O - ¡Hola mundo!\n",
        "4. Variables, tipos de datos y conversión\n",
        "5. Operaciones básicas\n",
        "6. Condicionales (pt. I)\n"
      ]
    },
    {
      "cell_type": "markdown",
      "metadata": {
        "id": "ScH4FmUrOsmR"
      },
      "source": [
        "## ¿Qué es programar?\n",
        "\n",
        "**Programar** es darle instrucciones a la máquina para que realice una acción. Esto lo hacemos a través de un lenguaje que una computadora sea capaz de entender.\n",
        "\n",
        "Los lenguajes en los que podemos darle instrucciones a la máquina se llaman **lenguajes de programación**, que cuentan con una sintaxis completa para poder especificar dichas instrucciones.\n",
        "\n",
        "Las intrucciones completas podemos plantearlas en una secuencia de pasos, a lo que llamamos algoritmo.\n",
        "\n",
        "Pensemos en algunos ejemplos..."
      ]
    },
    {
      "cell_type": "markdown",
      "metadata": {
        "id": "M8_mOCCyb6M5"
      },
      "source": [
        "## ¿Qué es y por qué Python?\n",
        "\n",
        "<center>\n",
        "    <img src=\"https://raw.githubusercontent.com/RodolfoFerro/python-innovaccion/main/assets/python_logo.png\" width=\"50%\">\n",
        "</center>\n",
        "\n",
        "Python es un lenguaje de programación interpretado,de tipado dinámico multiusos que es muy simple y elegante, pero poderoso.\n",
        "\n",
        "Es por ello que se utiliza en grandes compañias como Microsoft, Google y Dropbox, y en instituciones académicas donde lo utilizan para enseñar cursos que van desde introducción a la programación hasta inteligencia artificial. **Algunas plataformas como Eventbrite, Pinterest e Instagram utilizan Python.**"
      ]
    },
    {
      "cell_type": "markdown",
      "metadata": {
        "id": "LuM1e-0edMMw"
      },
      "source": [
        "## I/O - ¡Hola mundo!\n",
        "\n",
        "```input()``` y ```print()``` son las funciones de entrada y salida (respectivamente) de información en Python.\n",
        "\n",
        "```input()``` tiene como argumento una cadena de texto que da las intrucciones que se desea desplegar y lo que retorna (la respuesta) siempre es una cadena de texto; mientas que ```print()``` tiene como argumento cadenas de texto o variables que se desean desplegar.\n",
        "\n",
        "#### Ejemplo:\n",
        "\n",
        "```python\n",
        "nombre = input(\"Introduce tu nombre: \")\n",
        "print(f\"Mucho gusto, {nombre}\")\n",
        "```\n",
        "\n"
      ]
    },
    {
      "cell_type": "code",
      "metadata": {
        "colab": {
          "base_uri": "https://localhost:8080/"
        },
        "id": "yN2rTG-RfO6z",
        "outputId": "2f3844ff-8e2b-4e8f-e978-4c2d4a0086fc"
      },
      "source": [
        "print(\"¡Hola viajeras y viajeros!\")\n",
        "print(\"Arrancamos con el curso.\")\n",
        "\n",
        "print(\"Otra línea. 👀\")"
      ],
      "execution_count": 24,
      "outputs": [
        {
          "output_type": "stream",
          "text": [
            "¡Hola viajeras y viajeros!\n",
            "Arrancamos con el curso.\n",
            "Otra línea. 👀\n"
          ],
          "name": "stdout"
        }
      ]
    },
    {
      "cell_type": "code",
      "metadata": {
        "colab": {
          "base_uri": "https://localhost:8080/",
          "height": 53
        },
        "id": "4PkrfDX_hAAk",
        "outputId": "71cd3ec4-93b1-4922-e278-5dd0d467ce8c"
      },
      "source": [
        "input(\"Dime tu edad: \")"
      ],
      "execution_count": 25,
      "outputs": [
        {
          "output_type": "stream",
          "text": [
            "Dime tu edad: Fredy\n"
          ],
          "name": "stdout"
        },
        {
          "output_type": "execute_result",
          "data": {
            "application/vnd.google.colaboratory.intrinsic+json": {
              "type": "string"
            },
            "text/plain": [
              "'Fredy'"
            ]
          },
          "metadata": {},
          "execution_count": 25
        }
      ]
    },
    {
      "cell_type": "markdown",
      "metadata": {
        "id": "W33Bo8hbLSRa"
      },
      "source": [
        "## Variables, tipos de datos y conversión\n",
        "\n",
        "Podemos pensar que una variable es como un contenedor de infomación. Python puede albergar disintos tipos de datos, como valores númericos, booleanos y cadenas de texto. Al ser python de tipado dinámico, no hace falta declarar el tipo de variable, sino que sólo basta con definir sus valores.\n",
        "\n",
        "#### Ejemplo\n",
        "\n",
        "```python\n",
        "name = \"Alfredo\"\n",
        "age = 23\n",
        "pi = 3.1416\n",
        "age = float(age)\n",
        "\n",
        "print(name, age)\n",
        "print(type(name), type(age))\n",
        "```"
      ]
    },
    {
      "cell_type": "code",
      "metadata": {
        "id": "UoL6G_BVLsOe"
      },
      "source": [
        "bote_de_yogurt = \"Frijoles\""
      ],
      "execution_count": 26,
      "outputs": []
    },
    {
      "cell_type": "code",
      "metadata": {
        "colab": {
          "base_uri": "https://localhost:8080/"
        },
        "id": "D0VJJ7geN_ur",
        "outputId": "1cf1d0d6-04d3-4f4d-b36f-7168641fc851"
      },
      "source": [
        "print(bote_de_yogurt)"
      ],
      "execution_count": 27,
      "outputs": [
        {
          "output_type": "stream",
          "text": [
            "Frijoles\n"
          ],
          "name": "stdout"
        }
      ]
    },
    {
      "cell_type": "code",
      "metadata": {
        "colab": {
          "base_uri": "https://localhost:8080/"
        },
        "id": "AEyNbzRvOBlF",
        "outputId": "0d14bab7-3aff-44cb-c997-95cf3fb78786"
      },
      "source": [
        "edad = 23\n",
        "pi = 3.14159265358979\n",
        "\n",
        "print(\"Edad:\")\n",
        "print(edad)"
      ],
      "execution_count": 28,
      "outputs": [
        {
          "output_type": "stream",
          "text": [
            "Edad:\n",
            "23\n"
          ],
          "name": "stdout"
        }
      ]
    },
    {
      "cell_type": "code",
      "metadata": {
        "colab": {
          "base_uri": "https://localhost:8080/"
        },
        "id": "wgfjr51JPOM_",
        "outputId": "da631cea-8bb6-48d7-bbf0-2daa8546aa86"
      },
      "source": [
        "print(\"Aproximación de PI:\")\n",
        "print(pi)"
      ],
      "execution_count": 29,
      "outputs": [
        {
          "output_type": "stream",
          "text": [
            "Aproximación de PI:\n",
            "3.14159265358979\n"
          ],
          "name": "stdout"
        }
      ]
    },
    {
      "cell_type": "code",
      "metadata": {
        "colab": {
          "base_uri": "https://localhost:8080/"
        },
        "id": "2lUt65ErPTwF",
        "outputId": "55e347ba-d0ee-4396-defa-72c8dfd70399"
      },
      "source": [
        "print(type(edad)) # Integer - Número entero\n",
        "print(type(pi)) # Float - Número decimal\n",
        "print(type(bote_de_yogurt)) # String - Cadena de texto\n",
        "\n",
        "# Esto no se ejecuta\n",
        "# Esto es un comentario"
      ],
      "execution_count": 30,
      "outputs": [
        {
          "output_type": "stream",
          "text": [
            "<class 'int'>\n",
            "<class 'float'>\n",
            "<class 'str'>\n"
          ],
          "name": "stdout"
        }
      ]
    },
    {
      "cell_type": "markdown",
      "metadata": {
        "id": "adrT2T7TQcAa"
      },
      "source": [
        "## Operaciones básicas\n",
        "\n",
        "En esencia hay tres tipos de operaciones:\n",
        "\n",
        "* **Operaciones aritméticas.** Operan a nivel matemático-aritmético sobre los valores de las variables (`+`, `-`, `*`, `/`, `//`, `%`, `**`).\n",
        "* **Operaciones de comparación.** Operan a nivel matemático-de-comparación sobre los valores de las variables (`<`, `>`, `<=`, `>=`, `==`, `!=`).\n",
        "* **Operaciones lógicas.** Operan a nivel matemático-lógico sobre los valores de las variables (`and`, `or`, `not`)\n"
      ]
    },
    {
      "cell_type": "code",
      "metadata": {
        "colab": {
          "base_uri": "https://localhost:8080/"
        },
        "id": "FEv1n92cPq9c",
        "outputId": "823125b4-33e8-4abc-9169-530ed7866ebf"
      },
      "source": [
        "print(edad)"
      ],
      "execution_count": 31,
      "outputs": [
        {
          "output_type": "stream",
          "text": [
            "23\n"
          ],
          "name": "stdout"
        }
      ]
    },
    {
      "cell_type": "code",
      "metadata": {
        "colab": {
          "base_uri": "https://localhost:8080/"
        },
        "id": "g2gWnNViSUcF",
        "outputId": "d6ee4be8-4ae6-459e-a61a-8efc1259a8e1"
      },
      "source": [
        "print(edad + 50)\n",
        "print(edad - 4)\n",
        "print(edad * 2)\n",
        "print(edad / 2)"
      ],
      "execution_count": 32,
      "outputs": [
        {
          "output_type": "stream",
          "text": [
            "73\n",
            "19\n",
            "46\n",
            "11.5\n"
          ],
          "name": "stdout"
        }
      ]
    },
    {
      "cell_type": "code",
      "metadata": {
        "colab": {
          "base_uri": "https://localhost:8080/"
        },
        "id": "v3dlyLd6SY9k",
        "outputId": "7ca45db3-a36b-49dc-d314-60ab3a36aafc"
      },
      "source": [
        "print(edad / 2)\n",
        "print(edad // 2)\n",
        "print(edad % 2)\n",
        "\n",
        "#    __11__\n",
        "# 2 | 23\n",
        "#     03\n",
        "#      1\n",
        "\n",
        "\n",
        "print(3 ** 3) # 3 * 3 * 3\n",
        "print(5 ** 2) # 5 * 5\n",
        "\n",
        "# Leyes de los exponentes\n",
        "#  __\n",
        "# √ 5 = (5)^(1/2)\"\n",
        "# 3^√ 5 = (5)^(1/3)\"\n",
        "#\n",
        "\n",
        "print(5 ** 0.5)\n",
        "print(81 ** 0.5)"
      ],
      "execution_count": 33,
      "outputs": [
        {
          "output_type": "stream",
          "text": [
            "11.5\n",
            "11\n",
            "1\n",
            "27\n",
            "25\n",
            "2.23606797749979\n",
            "9.0\n"
          ],
          "name": "stdout"
        }
      ]
    },
    {
      "cell_type": "markdown",
      "metadata": {
        "id": "_Zq0l5k8ii8g"
      },
      "source": [
        "## Condicionales (pt. I)\n",
        "\n",
        "Los condicionales los utilizaremos para validar si se cumple una o más condiciones para ejecutar cierto bloqe de código, en esencia nos ayuda a tomar decisiones sobre el flujo de nuestro código.\n",
        "\n",
        "#### Sintaxis:\n",
        "\n",
        "```python\n",
        "if condition:\n",
        "  # Block of code\n",
        "elif other condition:\n",
        "  # Another block of code\n",
        "else:\n",
        "  # Final block of code\n",
        "```\n"
      ]
    },
    {
      "cell_type": "code",
      "metadata": {
        "colab": {
          "base_uri": "https://localhost:8080/"
        },
        "id": "4oSw7vJqSsNs",
        "outputId": "49b38d66-4795-4339-d28c-c6a1ef1df353"
      },
      "source": [
        "print(edad)"
      ],
      "execution_count": 34,
      "outputs": [
        {
          "output_type": "stream",
          "text": [
            "23\n"
          ],
          "name": "stdout"
        }
      ]
    },
    {
      "cell_type": "markdown",
      "metadata": {
        "id": "djWYTPlykHfS"
      },
      "source": [
        "c/c++\n",
        "```C\n",
        "if (edad => 18) {\n",
        "  printf(\"Eres mayor.\");\n",
        "}\n",
        "```"
      ]
    },
    {
      "cell_type": "code",
      "metadata": {
        "id": "vRuBpvZTklkG"
      },
      "source": [
        "edad = -3"
      ],
      "execution_count": 43,
      "outputs": []
    },
    {
      "cell_type": "markdown",
      "metadata": {
        "id": "OlTs_ii3oMKo"
      },
      "source": [
        "---------------------------"
      ]
    },
    {
      "cell_type": "code",
      "metadata": {
        "colab": {
          "base_uri": "https://localhost:8080/"
        },
        "id": "BsAF4mzNjo1e",
        "outputId": "b96c23bb-7f3e-4377-da3b-3e16ffee52ba"
      },
      "source": [
        "edad = input(\"Introduce tu edad: \")\n",
        "edad = int(edad) # Casting\n",
        "\n",
        "if edad >= 18 and edad <= 100:\n",
        "  print(\"Eres mayor de edad.\")\n",
        "elif edad > 100:\n",
        "  print(\"Ya te petateaste\")\n",
        "elif edad < 0:\n",
        "  print(\"Tu edad no tiene sentido.\")\n",
        "else:\n",
        "  print(\"Eres menor de edad\")"
      ],
      "execution_count": 54,
      "outputs": [
        {
          "output_type": "stream",
          "text": [
            "Introduce tu edad: 23\n",
            "Eres mayor de edad.\n"
          ],
          "name": "stdout"
        }
      ]
    },
    {
      "cell_type": "markdown",
      "metadata": {
        "id": "VsWrnIlZoOq4"
      },
      "source": [
        "-------------------------------------\n"
      ]
    },
    {
      "cell_type": "code",
      "metadata": {
        "colab": {
          "base_uri": "https://localhost:8080/"
        },
        "id": "J2U9PlIAj_lT",
        "outputId": "5e3aa897-7a38-4ae0-fca3-69d88d7d8072"
      },
      "source": [
        "richard = 27\n",
        "rodo = 17\n",
        "fredy = 23\n",
        "\n",
        "edad_total = richard + rodo + fredy\n",
        "print(edad_total)\n",
        "print(richard)\n",
        "print(rodo)\n",
        "print(fredy)"
      ],
      "execution_count": 50,
      "outputs": [
        {
          "output_type": "stream",
          "text": [
            "67\n",
            "27\n",
            "17\n",
            "23\n"
          ],
          "name": "stdout"
        }
      ]
    },
    {
      "cell_type": "code",
      "metadata": {
        "colab": {
          "base_uri": "https://localhost:8080/"
        },
        "id": "2TPmMfVkmo8M",
        "outputId": "3eae5d3e-44c1-4ce2-afe0-95accc782428"
      },
      "source": [
        "if richard >= 18 and rodo >= 18 and fredy >= 18 :\n",
        "  print(\"Todos son mayores de edad.\")\n",
        "else:\n",
        "  print(\"Alguien es menor. ❌\")"
      ],
      "execution_count": 51,
      "outputs": [
        {
          "output_type": "stream",
          "text": [
            "Alguien es menor. ❌\n"
          ],
          "name": "stdout"
        }
      ]
    },
    {
      "cell_type": "code",
      "metadata": {
        "colab": {
          "base_uri": "https://localhost:8080/"
        },
        "id": "rcWAPiXAm8UD",
        "outputId": "1e045754-2787-47d5-c49d-510746282152"
      },
      "source": [
        "animal = \"caballo\"\n",
        "color = \"negro\"\n",
        "\n",
        "if animal == \"caballo\":\n",
        "  if color == \"negro\":\n",
        "    print(\"Ah, es el caballo de Juan.\")\n",
        "  else:\n",
        "    print(\"No sé de quién sea.\")\n",
        "else:\n",
        "  print(\"No se que animal es.\")\n",
        "\n",
        "if animal == \"caballo\" and color == \"negro\":\n",
        "  print(\"Ah, es el caballo de Juan.\")"
      ],
      "execution_count": 59,
      "outputs": [
        {
          "output_type": "stream",
          "text": [
            "Ah, es el caballo de Juan.\n",
            "Ah, es el caballo de Juan.\n"
          ],
          "name": "stdout"
        }
      ]
    },
    {
      "cell_type": "code",
      "metadata": {
        "colab": {
          "base_uri": "https://localhost:8080/"
        },
        "id": "iDzWbjcOovfU",
        "outputId": "f8bfa264-5b80-4f9e-a8ca-6ccd9bdd979e"
      },
      "source": [
        "z = 2 + 3j\n",
        "\n",
        "print(z.__dir__())\n",
        "\n",
        "print(z.real, z.imag)\n",
        "print(z.conjugate())"
      ],
      "execution_count": 61,
      "outputs": [
        {
          "output_type": "stream",
          "text": [
            "['__repr__', '__hash__', '__str__', '__getattribute__', '__lt__', '__le__', '__eq__', '__ne__', '__gt__', '__ge__', '__add__', '__radd__', '__sub__', '__rsub__', '__mul__', '__rmul__', '__mod__', '__rmod__', '__divmod__', '__rdivmod__', '__pow__', '__rpow__', '__neg__', '__pos__', '__abs__', '__bool__', '__int__', '__float__', '__floordiv__', '__rfloordiv__', '__truediv__', '__rtruediv__', '__new__', 'conjugate', '__getnewargs__', '__format__', 'real', 'imag', '__doc__', '__setattr__', '__delattr__', '__init__', '__reduce_ex__', '__reduce__', '__subclasshook__', '__init_subclass__', '__sizeof__', '__dir__', '__class__']\n",
            "2.0 3.0\n",
            "(2-3j)\n"
          ],
          "name": "stdout"
        }
      ]
    },
    {
      "cell_type": "code",
      "metadata": {
        "colab": {
          "base_uri": "https://localhost:8080/"
        },
        "id": "H67XkSzKpO2T",
        "outputId": "4267917e-c061-46d9-da0e-9f8acdce9d95"
      },
      "source": [
        "if color == \"negro\":\n",
        "    print(\"Ah, es el caballo de Juan.\")\n",
        "else:\n",
        "    print(\"No sé de quién sea.\")"
      ],
      "execution_count": 62,
      "outputs": [
        {
          "output_type": "stream",
          "text": [
            "Ah, es el caballo de Juan.\n"
          ],
          "name": "stdout"
        }
      ]
    },
    {
      "cell_type": "code",
      "metadata": {
        "id": "TyinBEyNrCPy"
      },
      "source": [
        "color = \"negro\""
      ],
      "execution_count": 63,
      "outputs": []
    },
    {
      "cell_type": "code",
      "metadata": {
        "colab": {
          "base_uri": "https://localhost:8080/",
          "height": 35
        },
        "id": "zSVDm3UXq7Q0",
        "outputId": "ef745b30-3f7f-4fb6-a969-1cdbd9aad7de"
      },
      "source": [
        "\"Ah, es el caballo de Juan.\" if color == \"negro\" else \"No sé de quién sea.\""
      ],
      "execution_count": 65,
      "outputs": [
        {
          "output_type": "execute_result",
          "data": {
            "application/vnd.google.colaboratory.intrinsic+json": {
              "type": "string"
            },
            "text/plain": [
              "'Ah, es el caballo de Juan.'"
            ]
          },
          "metadata": {},
          "execution_count": 65
        }
      ]
    },
    {
      "cell_type": "code",
      "metadata": {
        "id": "dF5DoElsrDYq"
      },
      "source": [
        ""
      ],
      "execution_count": null,
      "outputs": []
    }
  ]
}